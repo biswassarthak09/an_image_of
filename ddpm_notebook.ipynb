{
 "cells": [
  {
   "cell_type": "markdown",
   "id": "cb291554",
   "metadata": {},
   "source": [
    "## 🌀 Diffusion DDPM with Contextual U-Net\n",
    "\n",
    " Welcome to this notebook on **Denoising Diffusion Probabilistic Models (DDPM)**. \n",
    "This guide will help you understand the structure and training of a diffusion model conditioned on context,\n",
    "applied here to a visual dataset like CLEVR.\n",
    "\n",
    "### 🧠 What you'll learn:\n",
    " - The principles behind DDPMs\n",
    " - How noise is added and removed from data over time\n",
    " - How a Contextual U-Net can condition image generation\n",
    " - The training pipeline and how to sample new data\n"
   ]
  },
  {
   "cell_type": "code",
   "execution_count": 1,
   "id": "ec0d1f9c",
   "metadata": {},
   "outputs": [
    {
     "name": "stdout",
     "output_type": "stream",
     "text": [
      "Using device: cuda\n",
      "/home/lmb/dllab2025s/public/data/image_gen\n"
     ]
    }
   ],
   "source": [
    "# Imports and Device Setup\n",
    "import os\n",
    "import json\n",
    "import glob\n",
    "import random\n",
    "import math \n",
    "from tqdm import tqdm\n",
    "\n",
    "import numpy as np\n",
    "from PIL import Image\n",
    "import matplotlib.pyplot as plt\n",
    "import torchvision.utils as vutils\n",
    "\n",
    "import torch\n",
    "import torch.nn as nn\n",
    "import torch.nn.functional as F\n",
    "from torch.utils.data import DataLoader, Dataset\n",
    "from torchvision import transforms\n",
    "from argparse import Namespace\n",
    "from einops import rearrange, pack, unpack\n",
    "\n",
    "# Device\n",
    "device = torch.device('cuda' if torch.cuda.is_available() else 'cpu')\n",
    "print(f\"Using device: {device}\")\n",
    "\n",
    "from paths import CV_PATH_DDPM\n",
    "\n",
    "print(CV_PATH_DDPM)"
   ]
  },
  {
   "cell_type": "markdown",
   "id": "0eedd97f",
   "metadata": {},
   "source": [
    "# Parameters (Override as needed for interactive runs)\n",
    "These parameters define the behavior of training, model architecture, dataset, and sampling process.\n",
    "You can adjust them as needed to control the model’s performance.\n",
    "\n",
    "| Parameter | Description |\n",
    "|----------|-------------|\n",
    "| `lrate` | Learning rate |\n",
    "| `test_size` | Size of the object in the test dataset |\n",
    "| `num_samples` | Total number of samples |\n",
    "| `batch_size` | Number of images per training batch |\n",
    "| `n_T` | Number of diffusion steps |\n",
    "| `n_feat` | Feature size in U-Net |\n",
    "| `n_sample` | Number of samples during evaluation |\n",
    "| `n_epoch` | Number of training epochs |\n",
    "| `dataset` | Dataset name (e.g. CLEVR) |\n",
    "| `pixel_size` | Size of image (e.g. 28x28 pixels) |"
   ]
  },
  {
   "cell_type": "code",
   "execution_count": 2,
   "id": "3db37792",
   "metadata": {},
   "outputs": [],
   "source": [
    "# Using Namespace to emulate argparse arguments\n",
    "args = Namespace(\n",
    "    lrate=1e-4,\n",
    "    test_size=1.6,\n",
    "    num_samples=5000,\n",
    "    batch_size=64,\n",
    "    n_T=500,\n",
    "    n_feat=256,\n",
    "    n_sample=64,\n",
    "    n_epoch=100,\n",
    "    type_attention=\"\",\n",
    "    pixel_size=28,\n",
    "    dataset=\"clevr\",\n",
    "    seed=1,\n",
    "    save_model_path='comp_model.pth',\n",
    "    load_model_path=None\n",
    ")"
   ]
  },
  {
   "cell_type": "markdown",
   "id": "93a2443b",
   "metadata": {},
   "source": [
    "# Helper Functions and Schedules\n",
    "\n",
    "## 📐 Diffusion Schedules\n",
    "\n",
    "The schedules define how noise is added to the data during the forward process.\n",
    "The reverse process attempts to recover clean data step-by-step.\n",
    "### 📊 Key Variables\n",
    "- **`beta_t`**: Variance schedule controlling noise at each timestep\n",
    "- **`alpha_t`**: Data retention factor\n",
    "- **`alphabar_t`**: Cumulative product of `alpha_t`\n",
    "- **`sqrtab`, `sqrtmab`**: Precomputed factors used in forward/reverse diffusion\n",
    "\n",
    "This section also includes helper functions like:\n",
    "- `l2norm`: Normalize vectors using L2 norm\n",
    "- `exists`: Simple None check\n"
   ]
  },
  {
   "cell_type": "code",
   "execution_count": 3,
   "id": "ce14bed2",
   "metadata": {},
   "outputs": [],
   "source": [
    "def l2norm(t):\n",
    "    return F.normalize(t, dim=-1)\n",
    "\n",
    "def exists(val):\n",
    "    return val is not None\n",
    "\n",
    "# DDPM Schedules\n",
    "def ddpm_schedules(beta1, beta2, T):\n",
    "    assert beta1 < beta2 < 1.0, \"beta1 and beta2 must be in (0, 1)\"\n",
    "    beta_t = (beta2 - beta1) * torch.arange(0, T + 1, dtype=torch.float32) / T + beta1\n",
    "    sqrt_beta_t = torch.sqrt(beta_t)\n",
    "    alpha_t = 1 - beta_t\n",
    "    log_alpha_t = torch.log(alpha_t)\n",
    "    alphabar_t = torch.cumsum(log_alpha_t, dim=0).exp()\n",
    "    sqrtab = torch.sqrt(alphabar_t)\n",
    "    oneover_sqrta = 1 / torch.sqrt(alpha_t)\n",
    "    sqrtmab = torch.sqrt(1 - alphabar_t)\n",
    "    mab_over_sqrtmab = (1 - alpha_t) / sqrtmab\n",
    "    return {\n",
    "        'alpha_t': alpha_t,\n",
    "        'oneover_sqrta': oneover_sqrta,\n",
    "        'sqrt_beta_t': sqrt_beta_t,\n",
    "        'alphabar_t': alphabar_t,\n",
    "        'sqrtab': sqrtab,\n",
    "        'sqrtmab': sqrtmab,\n",
    "        'mab_over_sqrtmab': mab_over_sqrtmab,\n",
    "    }"
   ]
  },
  {
   "cell_type": "markdown",
   "id": "e632a288",
   "metadata": {},
   "source": [
    "## 🧱 Model Components\n",
    "We now build the architecture of the DDPM using the following modules:\n",
    "### 🔁 Residual Blocks\n",
    "Help preserve information across layers and stabilize training.\n",
    "\n",
    "### 🔍 Attention Layers\n",
    "Add the ability to focus on spatial regions of interest. Optional, but helpful in U-Net-based models.\n",
    "\n",
    "### 🧩 U-Net Architecture\n",
    "A U-Net is used to predict the noise at each step of the reverse diffusion process.\n",
    "It consists of:\n",
    "- Downsampling path\n",
    "- Bottleneck\n",
    "- Upsampling path with skip connections\n",
    "- Embedding for conditioning on context/concepts"
   ]
  },
  {
   "cell_type": "code",
   "execution_count": 4,
   "id": "0f349fbd",
   "metadata": {},
   "outputs": [],
   "source": [
    "class ResidualConvBlock(nn.Module):\n",
    "    def __init__(\n",
    "        self, in_channels: int, out_channels: int, is_res: bool = False\n",
    "    ) -> None:\n",
    "        super().__init__()\n",
    "        '''\n",
    "        TODO:\n",
    "        Implement a standard ResNet-style convolutional block.\n",
    "\n",
    "        Args:\n",
    "            in_channels (int): Number of channels in the input feature map.\n",
    "            out_channels (int): Number of channels produced by the block (also number of channels after 1st Conv2D layer).\n",
    "            is_res (bool): Whether to include a residual connection.\n",
    "\n",
    "        - Use two Conv2D layers with:\n",
    "            - kernel size = 3\n",
    "            - stride = 1\n",
    "            - padding = 1\n",
    "        - Each followed by BatchNorm and GELU activation.\n",
    "        - Track if in_channels == out_channels (used for skip connection logic).\n",
    "        '''\n",
    "\n",
    "        # Hint: you may want to store:\n",
    "        # self.same_channels\n",
    "        # self.is_res\n",
    "        # self.conv1 = nn.Sequential(...)\n",
    "        # self.conv2 = nn.Sequential(...)\n",
    "\n",
    "        self.same_channels = in_channels == out_channels\n",
    "        self.is_res = is_res\n",
    "        self.conv1 = nn.Sequential(\n",
    "            nn.Conv2d(in_channels, out_channels, kernel_size=3, stride=1, padding=1),\n",
    "            nn.GroupNorm(8, out_channels),\n",
    "            nn.GELU(),\n",
    "        )\n",
    "\n",
    "        self.conv2 = nn.Sequential(\n",
    "            nn.Conv2d(out_channels, out_channels, kernel_size=3, stride=1, padding=1),\n",
    "            nn.GroupNorm(8, out_channels),\n",
    "            nn.GELU(),\n",
    "        )\n",
    "        \n",
    "\n",
    "    def forward(self, x: torch.Tensor) -> torch.Tensor:\n",
    "        if self.is_res:\n",
    "            x1 = self.conv1(x)\n",
    "            x2 = self.conv2(x1)\n",
    "            if self.same_channels:\n",
    "                out = x + x2\n",
    "            else:\n",
    "                out = x1 + x2 \n",
    "            return out\n",
    "        else:\n",
    "            x1 = self.conv1(x)\n",
    "            x2 = self.conv2(x1)\n",
    "            return x2\n",
    "\n",
    "\n",
    "class Residual(nn.Module):\n",
    "    def __init__(self, fn):\n",
    "        super().__init__()\n",
    "        self.fn = fn\n",
    "\n",
    "    def forward(self, x, **kwargs):\n",
    "        return self.fn(x, **kwargs) + x\n",
    "\n",
    "class RearrangeToSequence(nn.Module):\n",
    "    def __init__(self, fn):\n",
    "        super().__init__()\n",
    "        self.fn = fn\n",
    "\n",
    "    def forward(self, x):\n",
    "        x = rearrange(x, 'b c ... -> b ... c')\n",
    "        x, ps = pack([x], 'b * c')\n",
    "\n",
    "        x = self.fn(x)\n",
    "\n",
    "        x, = unpack(x, ps, 'b * c')\n",
    "        x = rearrange(x, 'b ... c -> b c ...')\n",
    "        return x\n",
    "\n",
    "class LayerNorm(nn.Module):\n",
    "    def __init__(self, dim, eps = 1e-5, fp16_eps = 1e-3, stable = False):\n",
    "        super().__init__()\n",
    "        self.eps = eps\n",
    "        self.fp16_eps = fp16_eps\n",
    "        self.stable = stable\n",
    "        self.g = nn.Parameter(torch.ones(dim))\n",
    "\n",
    "    def forward(self, x):\n",
    "        eps = self.eps if x.dtype == torch.float32 else self.fp16_eps\n",
    "\n",
    "        if self.stable:\n",
    "            x = x / x.amax(dim = -1, keepdim = True).detach()\n",
    "\n",
    "        var = torch.var(x, dim = -1, unbiased = False, keepdim = True)\n",
    "        mean = torch.mean(x, dim = -1, keepdim = True)\n",
    "        return (x - mean) * (var + eps).rsqrt() * self.g\n",
    "\n",
    "        \n",
    "class Attention(nn.Module):\n",
    "    '''General implementation of Cross & Self Attention multi-head\n",
    "    '''\n",
    "    def __init__(self, embed_dim, hidden_dim, context_dim=None, num_heads=8, ):\n",
    "        super(Attention, self).__init__()\n",
    "        self.hidden_dim = hidden_dim\n",
    "        self.context_dim = context_dim\n",
    "        self.embed_dim = embed_dim\n",
    "        self.num_heads = num_heads\n",
    "        self.head_dim = embed_dim // num_heads\n",
    "        self.to_q = nn.Linear(hidden_dim, embed_dim, bias=False)\n",
    "        if context_dim is None:\n",
    "            # Self Attention\n",
    "            self.to_k = nn.Linear(hidden_dim, embed_dim, bias=False)\n",
    "            self.to_v = nn.Linear(hidden_dim, embed_dim, bias=False)\n",
    "            self.self_attn = True\n",
    "        else:\n",
    "            # Cross Attention\n",
    "            self.to_k = nn.Linear(context_dim, embed_dim, bias=False)\n",
    "            self.to_v = nn.Linear(context_dim, embed_dim, bias=False)\n",
    "            self.self_attn = False\n",
    "        self.to_out = nn.Sequential(\n",
    "            nn.Linear(embed_dim, hidden_dim, bias=True)\n",
    "        )  # this could be omitted\n",
    "\n",
    "    def forward(self, tokens, context=None):\n",
    "        Q = self.to_q(tokens)\n",
    "        K = self.to_k(tokens) if self.self_attn else self.to_k(context)\n",
    "        V = self.to_v(tokens) if self.self_attn else self.to_v(context)\n",
    "        # print(Q.shape, K.shape, V.shape)\n",
    "        # transform heads onto batch dimension\n",
    "        Q = rearrange(Q, 'B T (H D) -> (B H) T D', H=self.num_heads, D=self.head_dim)\n",
    "        K = rearrange(K, 'B T (H D) -> (B H) T D', H=self.num_heads, D=self.head_dim)\n",
    "        V = rearrange(V, 'B T (H D) -> (B H) T D', H=self.num_heads, D=self.head_dim)\n",
    "        # print(Q.shape, K.shape, V.shape)\n",
    "        scoremats = torch.einsum(\"BTD,BSD->BTS\", Q, K)\n",
    "        attnmats = F.softmax(scoremats / math.sqrt(self.head_dim), dim=-1)\n",
    "        # print(scoremats.shape, attnmats.shape, )\n",
    "        ctx_vecs = torch.einsum(\"BTS,BSD->BTD\", attnmats, V)\n",
    "        # split the heads transform back to hidden.\n",
    "        ctx_vecs = rearrange(ctx_vecs, '(B H) T D -> B T (H D)', H=self.num_heads, D=self.head_dim)\n",
    "        # TODO: note this `to_out` is also a linear layer, could be in principle merged into the to_value layer.\n",
    "        return self.to_out(ctx_vecs)\n",
    "\n",
    "\n",
    "class UnetDown(nn.Module):\n",
    "    def __init__(self, in_channels, out_channels, type_attention):\n",
    "        super(UnetDown, self).__init__()\n",
    "        '''\n",
    "        process and downscale the image feature maps\n",
    "        '''\n",
    "        attention = nn.Identity()\n",
    "        if type_attention==\"self\":\n",
    "            create_self_attn = lambda dim: RearrangeToSequence(Residual(Attention(dim)))\n",
    "            attention = create_self_attn(out_channels)\n",
    "        self.model = nn.Sequential(*[ResidualConvBlock(in_channels, out_channels), attention, nn.MaxPool2d(2)])\n",
    "\n",
    "    def forward(self, x):\n",
    "        return self.model(x)\n",
    "\n",
    "class UnetUp(nn.Module):\n",
    "    def __init__(self, in_channels, out_channels, type_attention):\n",
    "        super(UnetUp, self).__init__()\n",
    "        '''\n",
    "        process and upscale the image feature maps\n",
    "        '''\n",
    "        attention = nn.Identity()\n",
    "        if type_attention==\"self\": \n",
    "            create_self_attn = lambda dim: RearrangeToSequence(Residual(Attention(dim)))\n",
    "            attention = create_self_attn(out_channels)\n",
    "        layers = [\n",
    "            nn.ConvTranspose2d(in_channels, out_channels, 2, 2),\n",
    "            ResidualConvBlock(out_channels, out_channels),\n",
    "            attention, \n",
    "            ResidualConvBlock(out_channels, out_channels),\n",
    "        ]\n",
    "        self.model = nn.Sequential(*layers)\n",
    "\n",
    "    def forward(self, x, skip):\n",
    "        x = torch.cat((x, skip), 1)\n",
    "        x = self.model(x)\n",
    "        return x\n",
    "\n",
    "class EmbedFC(nn.Module):\n",
    "    def __init__(self, input_dim, emb_dim):\n",
    "        super(EmbedFC, self).__init__()\n",
    "        '''\n",
    "        TODO:\n",
    "        Implement a simple feedforward embedding network.\n",
    "\n",
    "        Args:\n",
    "            input_dim (int): Dimension of the input features.\n",
    "            emb_dim (int): Desired dimension of the embedding.\n",
    "\n",
    "        Design:\n",
    "        - First layer: Linear from input_dim → emb_dim\n",
    "        - Activation: GELU\n",
    "        - Second layer: Linear from emb_dim → emb_dim\n",
    "\n",
    "        Store the entire sequence in self.model using nn.Sequential.\n",
    "        '''\n",
    "\n",
    "        self.model = nn.Sequential(\n",
    "            nn.Linear(input_dim, emb_dim),\n",
    "            nn.GELU(),\n",
    "            nn.Linear(emb_dim, emb_dim),\n",
    "        )\n",
    "        self.input_dim = input_dim\n",
    "        self.emb_dim = emb_dim\n",
    "\n",
    "\n",
    "    def forward(self, x):\n",
    "        '''\n",
    "        TODO:\n",
    "        Flatten the input (if needed), and apply the embedding network.\n",
    "        - Pass it through self.model\n",
    "\n",
    "        Returns:\n",
    "            Embedded representation of shape [batch_size, emb_dim]\n",
    "        '''\n",
    "        x_in = x.view(-1, self.input_dim)\n",
    "        x_out = self.model(x_in)\n",
    "        return x_out\n",
    "\n",
    "\n",
    "class ContextUnet(nn.Module):\n",
    "    def __init__(self, in_channels, n_feat = 256, n_classes=[2,3,1], type_attention=\"\"):\n",
    "        super(ContextUnet, self).__init__()\n",
    "\n",
    "        self.in_channels = in_channels\n",
    "        self.n_contexts = len(n_classes)\n",
    "        self.n_feat = 2 * n_feat\n",
    "        self.n_classes = n_classes\n",
    "\n",
    "        self.init_conv = ResidualConvBlock(in_channels, n_feat, is_res=True)\n",
    "\n",
    "        self.down1 = UnetDown(n_feat, n_feat, type_attention)\n",
    "        self.down2 = UnetDown(n_feat, 2 * n_feat, type_attention)\n",
    "\n",
    "        self.to_vec = nn.Sequential(nn.AvgPool2d(7), nn.GELU())\n",
    "\n",
    "        self.timeembed1 = EmbedFC(1, 2*n_feat)\n",
    "        self.timeembed2 = EmbedFC(1, 1*n_feat)\n",
    "\n",
    "        ### embedding shape\n",
    "        self.n_out1 = 2*n_feat \n",
    "        self.n_out2 = n_feat\n",
    "\n",
    "        self.contextembed1 = nn.ModuleList([EmbedFC(self.n_classes[iclass], self.n_out1) for iclass in range(len(self.n_classes))])\n",
    "        self.contextembed2 = nn.ModuleList([EmbedFC(self.n_classes[iclass], self.n_out2) for iclass in range(len(self.n_classes))])\n",
    "\n",
    "        n_conv = 7\n",
    "        self.up0 = nn.Sequential(\n",
    "            nn.ConvTranspose2d(2 * n_feat, 2 * n_feat, n_conv, n_conv), \n",
    "            nn.GroupNorm(8, 2 * n_feat),\n",
    "            nn.ReLU(),\n",
    "        )\n",
    "\n",
    "        self.up1 = UnetUp(4 * n_feat, n_feat, type_attention)\n",
    "        self.up2 = UnetUp(2 * n_feat, n_feat, type_attention)\n",
    "        self.out = nn.Sequential(\n",
    "            nn.Conv2d(2 * n_feat, n_feat, 3, 1, 1),\n",
    "            nn.GroupNorm(8, n_feat),\n",
    "            nn.ReLU(),\n",
    "            nn.Conv2d(n_feat, self.in_channels, 3, 1, 1),\n",
    "        )\n",
    "    \n",
    "    def forward(self, x, c, t, context_mask=None):\n",
    "        '''\n",
    "        Forward pass of the ContextU-Net.\n",
    "    \n",
    "        Inputs:\n",
    "            x: Noisy input image (B x C x H x W)\n",
    "            c: List of context labels (e.g. color, shape, size)\n",
    "            t: Timestep tensor\n",
    "            context_mask: Optional mask to ignore parts of context\n",
    "    \n",
    "        Forward pass outline:\n",
    "        1. Pass x through init_conv, down1, down2\n",
    "        2. Compress features using to_vec\n",
    "        3. Embed timestep t using timeembed1 and timeembed2\n",
    "        4. Embed context c using contextembed1 and contextembed2 (see below)\n",
    "        5. Perform conditional upsampling (see below)\n",
    "        6. Output final image with skip connection from input x\n",
    "        '''\n",
    "        \n",
    "        # x is (noisy) image, c is context label, t is timestep, \n",
    "        x = self.init_conv(x)\n",
    "        down1 = self.down1(x)\n",
    "        down2 = self.down2(down1)\n",
    "        hiddenvec = self.to_vec(down2)\n",
    "    \n",
    "        temb1 = self.timeembed1(t).view(-1, int(self.n_feat), 1, 1)\n",
    "        temb2 = self.timeembed2(t).view(-1, int(self.n_feat/2), 1, 1)\n",
    "    \n",
    "        # embed context, time step\n",
    "        cemb1 = 0\n",
    "        cemb2 = 0\n",
    "        for ic in range(len(self.n_classes)):\n",
    "            tmpc = c[ic]\n",
    "            if tmpc.dtype==torch.int64: \n",
    "                tmpc = nn.functional.one_hot(tmpc, num_classes=self.n_classes[ic]).type(torch.float)\n",
    "            cemb1 += self.contextembed1[ic](tmpc).view(-1, int(self.n_out1/1.), 1, 1)\n",
    "            cemb2 += self.contextembed2[ic](tmpc).view(-1, int(self.n_out2/1.), 1, 1)\n",
    "    \n",
    "        up1 = self.up0(hiddenvec)\n",
    "        up2 = self.up1(cemb1*up1 + temb1, down2)\n",
    "        up3 = self.up2(cemb2*up2 + temb2, down1)\n",
    "        out = self.out(torch.cat((up3, x), 1))\n",
    "        return out"
   ]
  },
  {
   "cell_type": "markdown",
   "id": "4b1f8c7e",
   "metadata": {},
   "source": [
    "## DDPM"
   ]
  },
  {
   "cell_type": "code",
   "execution_count": 5,
   "id": "0aba5f8f",
   "metadata": {},
   "outputs": [],
   "source": [
    "class DDPM(nn.Module):\n",
    "    def __init__(self, model, betas, n_T, device):\n",
    "        super().__init__()\n",
    "        self.device = device\n",
    "        self.model = model.to(device)\n",
    "        self.n_T = n_T\n",
    "        for k,v in ddpm_schedules(betas[0], betas[1], n_T).items():\n",
    "            self.register_buffer(k, v)\n",
    "        self.mse = nn.MSELoss()\n",
    "    def forward(self, x, c_list):\n",
    "        \"\"\"\n",
    "        TODO:\n",
    "        Implement the forward training pass of DDPM.\n",
    "\n",
    "        Objective:\n",
    "        Learn to predict the noise ε added to x_0 during the forward diffusion process.\n",
    "\n",
    "        Steps:\n",
    "        1. Sample a random timestep `t` ∈ [1, T] for each sample in the batch use torch.randint.\n",
    "        2. Generate Gaussian noise ε ~ N(0, I).\n",
    "        3. Create noisy version of input image\n",
    "           x_t = sqrt(ᾱ_t) * x + sqrt(1 - ᾱ_t) * ε, hint: sqrt(ᾱ_t), and sqrt(1 - ᾱ_t) are parts of the precomputed tensors.\n",
    "        4. Predict ε using the model given (x_t, c_list, t), here t is the ratio between t and n_T.\n",
    "        5. Return MSE loss between predicted and true ε.\n",
    "\n",
    "        References:\n",
    "        📚 Lilian Weng's blog (forward process):\n",
    "        https://lilianweng.github.io/posts/2021-07-11-diffusion-models/#forward-process\n",
    "        \"\"\"\n",
    "        t = torch.randint(1, self.n_T + 1, (x.shape[0],), device=self.device).long()\n",
    "\n",
    "        noise = torch.randn_like(x)\n",
    "\n",
    "        sqrtab_t = self.sqrtab[t].view(-1, 1, 1, 1)\n",
    "        sqrtmab_t = self.sqrtmab[t].view(-1, 1, 1, 1)\n",
    "        x_t = sqrtab_t * x + sqrtmab_t * noise\n",
    "\n",
    "        t_ratio = t.float() / self.n_T\n",
    "\n",
    "        pred_noise = self.model(x_t, c_list, t_ratio)\n",
    "\n",
    "        loss = self.mse(pred_noise, noise)\n",
    "        return loss\n",
    "       \n",
    "\n",
    "    @torch.no_grad()\n",
    "    def sample(self, n, c_list, size):\n",
    "        \"\"\"\n",
    "        TODO:\n",
    "        Implement the reverse sampling process of DDPM.\n",
    "\n",
    "        Objective:\n",
    "        Starting from pure noise x_T, iteratively denoise using the learned model.\n",
    "\n",
    "        Steps:\n",
    "        1. Sample x_T ~ N(0, I) according to n: number of samples and the size. \n",
    "        2. For each t in T to 1:\n",
    "           - create the t tensor, you can use torch.full\n",
    "           - Predict ε_t using the model given (x_t, c_list, t), t is the ratio between t and n_T.\n",
    "           - Compute x_{t-1} using the reverse formula:\n",
    "             x_{t-1} = 1/sqrt(α_t) * (x_t - (1 - α_t)/sqrt(1 - ᾱ_t) * ε_t), hint:1/sqrt(α_t), (1 - α_t)/sqrt(1 - ᾱ_t) are parts of the precomputed tensors.\n",
    "           - Unless t == 1: Add Gaussian noise g ~ N(0, 1) multiplied by sqrt(β_t), hint sqrt(β_t) is one of the precomputed tensors.\n",
    "             x_{t-1} += g * sqrt(β_t)\n",
    "        3. Return the final x.\n",
    "\n",
    "        References:\n",
    "        📚 Lilian Weng's blog (reverse process):\n",
    "        https://lilianweng.github.io/posts/2021-07-11-diffusion-models/#reverse-process\n",
    "        \"\"\"\n",
    "        \n",
    "        C, H, W = size\n",
    "        x_t = torch.randn(n, C, H, W, device=self.device)\n",
    "        for i in tqdm(range(self.n_T, 0, -1)):\n",
    "            t = torch.full((n,), i, device=self.device).long()\n",
    "            t_ratio = t.float() / self.n_T\n",
    "\n",
    "            oneover_sqrta_t = self.oneover_sqrta[t].view(-1, 1, 1, 1)\n",
    "            mab_over_sqrtmab_t = self.mab_over_sqrtmab[t].view(-1, 1, 1, 1)\n",
    "\n",
    "            pred_noise = self.model(x_t, c_list, t_ratio)\n",
    "\n",
    "            x_t = oneover_sqrta_t * (x_t - mab_over_sqrtmab_t * pred_noise)\n",
    "\n",
    "            if i > 1:\n",
    "                noise = torch.randn_like(x_t)\n",
    "                sqrt_beta_t = self.sqrt_beta_t[t].view(-1, 1, 1, 1)\n",
    "                x_t += sqrt_beta_t * noise\n",
    "\n",
    "        return x_t\n",
    "\n",
    "\n"
   ]
  },
  {
   "cell_type": "markdown",
   "id": "b2dfaae9",
   "metadata": {},
   "source": [
    "## 🧩 CLEVR_dataset: Custom Dataset Loader for Conditional Diffusion\n",
    "\n",
    "This class loads and processes a subset of the [CLEVR dataset](https://cs.stanford.edu/people/jcjohns/clevr/) for training and evaluating conditional diffusion models.\n",
    "\n",
    "It supports:\n",
    " - 🧪 Loading images and labels for **training** and **testing**\n",
    " - 🔁 Applying optional `transforms` (e.g. resizing, normalization)\n",
    " - 📎 Parsing **contextual attributes** from accompanying `.json` files\n",
    "\n",
    "\n",
    "\n",
    " ### 🔧 Constructor: `__init__`\n",
    "\n",
    " **Parameters**:\n",
    " | Argument      | Description |\n",
    " |---------------|-------------|\n",
    " | `transform`   | Optional image transform (e.g. `transforms.Compose`) |\n",
    " | `num_samples` | Number of samples to return in total |\n",
    " | `dataset`     | Dataset name (used in file path) |\n",
    " | `configs`     | List of shape-color-size combinations to include |\n",
    " | `training`    | Whether to load training or test split |\n",
    " | `test_size`   | Optional override for object size during test sampling |\n",
    "\n",
    " Based on `training`, it collects image paths from:\n",
    " - `{CV_PATH_DDPM}/{dataset}/train/...` for training\n",
    " - `{CV_PATH_DDPM}/{dataset}/test/...` for testing\n",
    "\n",
    "\n",
    " ### 🖼️ `__getitem__`: Loading and Labeling an Image\n",
    "\n",
    " 1. **Randomly selects** an image path from the collected list\n",
    " 2. **Loads the RGB image** using `PIL`\n",
    " 3. **Applies transform** if provided\n",
    " 4. **Parses metadata** from the filename and corresponding `.json` file\n",
    "\n",
    " - JSON file includes:\n",
    "   - `size`: scalar (float)\n",
    "   - `color`: RGB array\n",
    "\n",
    " - The filename includes a label string formatted like `shape_color_size`\n",
    "\n",
    " **Returns:**\n",
    " - `img`: preprocessed image tensor\n",
    " - `label`: dictionary of conditioning variables, where:\n",
    "   ```python\n",
    "   label = {\n",
    "       0: shape (int),\n",
    "       1: color (np.array of shape [3]),\n",
    "       2: size (float as np.array)\n",
    "   }\n",
    "   ```\n",
    "\n",
    "\n",
    " ### 📏 `__len__`: Number of Samples\n",
    "\n",
    " Returns the predefined `num_samples`, which can be different from the actual dataset size (used for random sampling).\n",
    "#\n",
    "\n",
    "#\n",
    " ✅ **Why this design?**\n",
    " - Enables **context-conditioned generation** (shape, color, size)\n",
    " - General enough to extend to other CLEVR-like datasets\n",
    " - Flexible random access & transformable\n",
    "#"
   ]
  },
  {
   "cell_type": "code",
   "execution_count": 6,
   "id": "190ec440",
   "metadata": {},
   "outputs": [],
   "source": [
    "class CLEVR_dataset(Dataset):\n",
    "    def __init__(self, transform=None, num_samples=5000, dataset=\"\", configs=\"\", training=True, test_size=None):\n",
    "        self.training = training\n",
    "        self.test_size = test_size\n",
    "        self.dataset = dataset\n",
    "\n",
    "        prefix =\"CLEVR\"\n",
    "        ext = \".png\"\n",
    "        \n",
    "        if training:\n",
    "            self.train_image_paths = []\n",
    "            for config in configs:\n",
    "                new_paths = glob.glob(f\"{CV_PATH_DDPM}/{dataset}/train/{prefix}_{config}_*{ext}\")\n",
    "                self.train_image_paths.extend(new_paths)\n",
    "            self.len_data = len(self.train_image_paths)\n",
    "        else:\n",
    "            self.test_image_paths = glob.glob(f\"{CV_PATH_DDPM}/{dataset}/test/{prefix}_{configs}_*{ext}\")\n",
    "            self.len_data = len(self.test_image_paths)\n",
    "\n",
    "        self.num_samples = num_samples\n",
    "        self.transform = transform\n",
    "\n",
    "\n",
    "    def __getitem__(self, index):\n",
    "        if self.training:\n",
    "           ipath = random.randint(0, len(self.train_image_paths)-1)\n",
    "           img_path = self.train_image_paths[ipath]\n",
    "        else:\n",
    "           ipath = random.randint(0, len(self.test_image_paths)-1)\n",
    "           img_path = self.test_image_paths[ipath]\n",
    "            \n",
    "        img = Image.open(img_path).convert('RGB')\n",
    "        if self.transform is not None:\n",
    "           img = self.transform(img)\n",
    "   \n",
    "        name_labels = img_path.split(\"_\")[-2]\n",
    "\n",
    "        with open(img_path.replace(\".png\", \".json\"), 'r') as f:\n",
    "            my_dict = json.loads(f.read())\n",
    "            _size = my_dict[0]\n",
    "            _color = my_dict[1][:3]\n",
    "    \n",
    "        if self.training:\n",
    "            size, color = _size, _color\n",
    "        else:\n",
    "            # Define colors mapping\n",
    "            colors_map = {\n",
    "                '0': [0.9, 0.1, 0.1],\n",
    "                '1': [0.1, 0.1, 0.9],\n",
    "                '2': [0.1, 0.9, 0.1]\n",
    "            }\n",
    "            # Assign size and color based on label values\n",
    "            size = 2.6 if int(name_labels[2]) == 0 else self.test_size\n",
    "            color = colors_map[name_labels[1]]\n",
    "    \n",
    "        # Convert size and color to numpy arrays\n",
    "        size = np.array(size, dtype=np.float32)\n",
    "        color = np.array(color, dtype=np.float32)\n",
    "    \n",
    "        # Create the label dictionary\n",
    "        label = {0: int(name_labels[0]), 1: color, 2: size}\n",
    "       \n",
    "\n",
    "        return img, label \n",
    "\n",
    "    def __len__(self):\n",
    "        return self.num_samples"
   ]
  },
  {
   "cell_type": "code",
   "execution_count": 7,
   "id": "3d2da338-0159-4093-8abc-45123ef31fd4",
   "metadata": {},
   "outputs": [
    {
     "data": {
      "text/plain": [
       "{0: 0,\n",
       " 1: array([0.8715985 , 0.1768101 , 0.18810451], dtype=float32),\n",
       " 2: array(2.2930193, dtype=float32)}"
      ]
     },
     "execution_count": 7,
     "metadata": {},
     "output_type": "execute_result"
    },
    {
     "data": {
      "image/png": "[encoded data removed]",
      "text/plain": [
       "<Figure size 640x480 with 1 Axes>"
      ]
     },
     "metadata": {},
     "output_type": "display_data"
    }
   ],
   "source": [
    "# VISUALIZE DATASET\n",
    "import matplotlib.pyplot as plt\n",
    "torch.manual_seed(args.seed)\n",
    "random.seed(args.seed)\n",
    "np.random.seed(args.seed)\n",
    "configs = [\"000\",\"001\",\"100\",\"010\"]\n",
    "tf = transforms.Compose([transforms.Resize((args.pixel_size,args.pixel_size)), transforms.ToTensor()])\n",
    "train_dataset = CLEVR_dataset(tf, args.num_samples, args.dataset, configs=[\"000\",\"001\",\"100\",\"010\"], training=True) \n",
    "img, label = train_dataset[0]\n",
    "\n",
    "plt.imshow(img.permute(1, 2, 0))\n",
    "label"
   ]
  },
  {
   "cell_type": "markdown",
   "id": "a2728b13",
   "metadata": {},
   "source": [
    "# Training and Sampling Functions"
   ]
  },
  {
   "cell_type": "code",
   "execution_count": 8,
   "id": "6b598588",
   "metadata": {},
   "outputs": [],
   "source": [
    "def train_model(args):\n",
    "    torch.manual_seed(args.seed)\n",
    "    random.seed(args.seed)\n",
    "    np.random.seed(args.seed)\n",
    "    configs = [\"000\",\"001\",\"100\",\"010\"]\n",
    "    tf = transforms.Compose([transforms.Resize((args.pixel_size,args.pixel_size)), transforms.ToTensor()])\n",
    "    model = DDPM(ContextUnet(3,args.n_feat,[2,3,1],args.type_attention), (args.lrate,0.02), args.n_T, device)\n",
    "    model = model.to(device)\n",
    "    model.train()\n",
    "    optim = torch.optim.Adam(model.parameters(), lr=args.lrate)\n",
    "    train_dataset = CLEVR_dataset(tf, args.num_samples, args.dataset, configs=[\"000\",\"001\",\"100\",\"010\"], training=True) \n",
    "    train_dataloader = DataLoader(train_dataset, batch_size=args.batch_size, shuffle=True, num_workers=1)\n",
    "\n",
    "    epoch_losses = []\n",
    "    epoch = []\n",
    "    for ep in tqdm(range(args.n_epoch), desc=\"Training Epochs\"):\n",
    "        model.train()\n",
    "        losses = []\n",
    "\n",
    "        # Wrapping loader with tqdm to track batch progress\n",
    "        for x, c in tqdm(train_dataloader, desc=f\"Epoch {ep+1}\", leave=False):\n",
    "            x = x.to(device)\n",
    "            cl = [c[i].to(device) for i in c]\n",
    "            # save first 10 images in x to debug using grid vu grid\n",
    "            if ep==0 and len(losses)==0:\n",
    "                grid = vutils.make_grid(x[:10], nrow=5, normalize=True)\n",
    "                plt.imshow(grid.permute(1, 2, 0).cpu())\n",
    "                plt.axis('off')\n",
    "                plt.show()\n",
    "            \n",
    "            # TODO\n",
    "            # 1. zero gradients\n",
    "            # 2. calc loss with model(...)\n",
    "            # 3. backprogate loss \n",
    "            # 4. optimize parameters for single step\n",
    "            \n",
    "            optim.zero_grad()\n",
    "            loss = model(x, cl)\n",
    "            loss.backward()\n",
    "            optim.step()\n",
    "            losses.append(loss.item())\n",
    "            \n",
    "        tqdm.write(f\"Epoch {ep+1}/{args.n_epoch}, Loss: {np.mean(losses):.4f}\")\n",
    "        epoch_losses.append(np.mean(losses))\n",
    "        epoch.append(ep+1)\n",
    "        \n",
    "    return model, epoch_losses, epoch\n"
   ]
  },
  {
   "cell_type": "code",
   "execution_count": 9,
   "id": "c5790f73",
   "metadata": {},
   "outputs": [],
   "source": [
    "def sample_images(model, args, config=\"000\"):\n",
    "    model.eval()\n",
    "    tf = transforms.Compose([transforms.Resize((args.pixel_size,args.pixel_size)), transforms.ToTensor()])\n",
    "    test_dataset = CLEVR_dataset(\n",
    "        tf, args.n_sample,\n",
    "        args.dataset,\n",
    "        configs=config,\n",
    "        training=False,\n",
    "        test_size=args.test_size,\n",
    "        )\n",
    "    test_loader = DataLoader(test_dataset,\n",
    "                            batch_size=args.batch_size,\n",
    "                            shuffle=False,\n",
    "                            num_workers=1)\n",
    "    x_real, c_gen = next(iter(test_loader))\n",
    "    cl = {k: v[:args.n_sample].to(device) for k, v in c_gen.items()}\n",
    "    gen = model.sample(args.n_sample, cl, (3,args.pixel_size,args.pixel_size))\n",
    "    return gen\n"
   ]
  },
  {
   "cell_type": "markdown",
   "id": "afe4f5c7",
   "metadata": {},
   "source": [
    "# Quantitative measure"
   ]
  },
  {
   "cell_type": "markdown",
   "id": "0ddfa1da",
   "metadata": {},
   "source": [
    " ## 🧠 MLP Probe for Context Prediction\n",
    "\n",
    " This section defines a simple **multi-head MLP classifier** used to evaluate whether generated images retain the correct **contextual information** (shape, color, size).\n",
    "\n",
    " ### 🧩 MLP Architecture\n",
    " - Takes a flattened image as input.\n",
    " - Outputs three predictions via separate linear heads:\n",
    "   - `0`: shape (3 classes)\n",
    "   - `1`: color (3 classes)\n",
    "   - `2`: size (2 classes)\n",
    "\n",
    "# ### 📊 Accuracy Evaluation\n",
    " The `calc_acc` function:\n",
    " - Passes generated images through the MLP probe.\n",
    " - Computes prediction accuracy for each context attribute.\n",
    " - Used to **quantitatively assess how well the model preserves conditioning** during generation."
   ]
  },
  {
   "cell_type": "code",
   "execution_count": 10,
   "id": "7a3ecc73",
   "metadata": {},
   "outputs": [],
   "source": [
    "class MLP(nn.Module):\n",
    "    def __init__(self, input_dim, output_dims):\n",
    "        super().__init__()\n",
    "\n",
    "        self.output_fc0 = nn.Linear(input_dim, output_dims[0])\n",
    "        self.output_fc1 = nn.Linear(input_dim, output_dims[1])\n",
    "        self.output_fc2 = nn.Linear(input_dim, output_dims[2])\n",
    "\n",
    "    def forward(self, x):\n",
    "        batch_size = x.shape[0]\n",
    "        x = x[:,:3,:,:].reshape(batch_size, -1)\n",
    "\n",
    "        y_pred = {}\n",
    "        y_pred[0] = self.output_fc0(x)\n",
    "        y_pred[1] = self.output_fc1(x)\n",
    "        y_pred[2] = self.output_fc2(x)\n",
    "\n",
    "        return y_pred \n"
   ]
  },
  {
   "cell_type": "code",
   "execution_count": 11,
   "id": "b6e0c80c",
   "metadata": {},
   "outputs": [],
   "source": [
    "probe_input_dim = args.pixel_size * args.pixel_size * 3\n",
    "classifier_linear = MLP(probe_input_dim, [3,3,2,2])\n",
    "classifier_linear.load_state_dict(torch.load(f\"{CV_PATH_DDPM}/probe.pt\", map_location=torch.device(device)))\n",
    "classifier_linear = classifier_linear.to(device)"
   ]
  },
  {
   "cell_type": "code",
   "execution_count": 12,
   "id": "5c27a812",
   "metadata": {},
   "outputs": [],
   "source": [
    "def calc_acc(preds, obs, classifier, nclasses=3):\n",
    "    y_pred = classifier(preds) #(torch.from_numpy(preds).to(device))\n",
    "    accs = []\n",
    "    preds = []\n",
    "    for ii in range(nclasses): \n",
    "        top_pred = y_pred[ii].argmax(1, keepdim=True).detach().cpu().numpy()\n",
    "        acc = np.array(top_pred[:,0]==int(obs[ii]), dtype=np.int64) \n",
    "        accs.append( acc ) \n",
    "        preds.append( top_pred[:,0] ) \n",
    "    return np.array(preds), np.array(accs)\n"
   ]
  },
  {
   "cell_type": "markdown",
   "id": "b43e4f1b",
   "metadata": {},
   "source": [
    "# Run Training or Sampling"
   ]
  },
  {
   "cell_type": "markdown",
   "id": "5aa42b99",
   "metadata": {},
   "source": [
    "losses should be decreasing and going below 0.2 after 1 epoch and below 0.005 after 50 epochs"
   ]
  },
  {
   "cell_type": "code",
   "execution_count": 13,
   "id": "bbd9b577",
   "metadata": {},
   "outputs": [
    {
     "name": "stderr",
     "output_type": "stream",
     "text": [
      "Training Epochs:   0%|          | 0/100 [00:00<?, ?it/s]"
     ]
    },
    {
     "data": {
      "image/png": "[encoded data removed]",
      "text/plain": [
       "<Figure size 640x480 with 1 Axes>"
      ]
     },
     "metadata": {},
     "output_type": "display_data"
    },
    {
     "name": "stderr",
     "output_type": "stream",
     "text": [
      "Training Epochs:   1%|          | 1/100 [00:53<1:28:54, 53.88s/it]"
     ]
    },
    {
     "name": "stdout",
     "output_type": "stream",
     "text": [
      "Epoch 1/100, Loss: 0.2153\n"
     ]
    },
    {
     "name": "stderr",
     "output_type": "stream",
     "text": [
      "Training Epochs:   2%|▏         | 2/100 [01:30<1:11:48, 43.96s/it]"
     ]
    },
    {
     "name": "stdout",
     "output_type": "stream",
     "text": [
      "Epoch 2/100, Loss: 0.0577\n"
     ]
    },
    {
     "name": "stderr",
     "output_type": "stream",
     "text": [
      "Training Epochs:   3%|▎         | 3/100 [02:07<1:05:45, 40.68s/it]"
     ]
    },
    {
     "name": "stdout",
     "output_type": "stream",
     "text": [
      "Epoch 3/100, Loss: 0.0419\n"
     ]
    },
    {
     "name": "stderr",
     "output_type": "stream",
     "text": [
      "Training Epochs:   4%|▍         | 4/100 [02:44<1:02:35, 39.12s/it]"
     ]
    },
    {
     "name": "stdout",
     "output_type": "stream",
     "text": [
      "Epoch 4/100, Loss: 0.0283\n"
     ]
    },
    {
     "name": "stderr",
     "output_type": "stream",
     "text": [
      "Training Epochs:   5%|▌         | 5/100 [03:21<1:00:35, 38.26s/it]"
     ]
    },
    {
     "name": "stdout",
     "output_type": "stream",
     "text": [
      "Epoch 5/100, Loss: 0.0211\n"
     ]
    },
    {
     "name": "stderr",
     "output_type": "stream",
     "text": [
      "Training Epochs:   6%|▌         | 6/100 [03:58<59:15, 37.82s/it]  "
     ]
    },
    {
     "name": "stdout",
     "output_type": "stream",
     "text": [
      "Epoch 6/100, Loss: 0.0169\n"
     ]
    },
    {
     "name": "stderr",
     "output_type": "stream",
     "text": [
      "Training Epochs:   7%|▋         | 7/100 [04:34<58:08, 37.51s/it]"
     ]
    },
    {
     "name": "stdout",
     "output_type": "stream",
     "text": [
      "Epoch 7/100, Loss: 0.0153\n"
     ]
    },
    {
     "name": "stderr",
     "output_type": "stream",
     "text": [
      "Training Epochs:   8%|▊         | 8/100 [05:11<57:10, 37.29s/it]"
     ]
    },
    {
     "name": "stdout",
     "output_type": "stream",
     "text": [
      "Epoch 8/100, Loss: 0.0134\n"
     ]
    },
    {
     "name": "stderr",
     "output_type": "stream",
     "text": [
      "Training Epochs:   9%|▉         | 9/100 [05:48<56:20, 37.15s/it]"
     ]
    },
    {
     "name": "stdout",
     "output_type": "stream",
     "text": [
      "Epoch 9/100, Loss: 0.0123\n"
     ]
    },
    {
     "name": "stderr",
     "output_type": "stream",
     "text": [
      "Training Epochs:  10%|█         | 10/100 [06:25<55:35, 37.06s/it]"
     ]
    },
    {
     "name": "stdout",
     "output_type": "stream",
     "text": [
      "Epoch 10/100, Loss: 0.0113\n"
     ]
    },
    {
     "name": "stderr",
     "output_type": "stream",
     "text": [
      "Training Epochs:  11%|█         | 11/100 [07:02<54:53, 37.00s/it]"
     ]
    },
    {
     "name": "stdout",
     "output_type": "stream",
     "text": [
      "Epoch 11/100, Loss: 0.0116\n"
     ]
    },
    {
     "name": "stderr",
     "output_type": "stream",
     "text": [
      "Training Epochs:  12%|█▏        | 12/100 [07:39<54:13, 36.97s/it]"
     ]
    },
    {
     "name": "stdout",
     "output_type": "stream",
     "text": [
      "Epoch 12/100, Loss: 0.0096\n"
     ]
    },
    {
     "name": "stderr",
     "output_type": "stream",
     "text": [
      "Training Epochs:  13%|█▎        | 13/100 [08:16<53:34, 36.95s/it]"
     ]
    },
    {
     "name": "stdout",
     "output_type": "stream",
     "text": [
      "Epoch 13/100, Loss: 0.0093\n"
     ]
    },
    {
     "name": "stderr",
     "output_type": "stream",
     "text": [
      "Training Epochs:  14%|█▍        | 14/100 [08:53<52:56, 36.93s/it]"
     ]
    },
    {
     "name": "stdout",
     "output_type": "stream",
     "text": [
      "Epoch 14/100, Loss: 0.0102\n"
     ]
    },
    {
     "name": "stderr",
     "output_type": "stream",
     "text": [
      "Training Epochs:  15%|█▌        | 15/100 [09:29<52:17, 36.92s/it]"
     ]
    },
    {
     "name": "stdout",
     "output_type": "stream",
     "text": [
      "Epoch 15/100, Loss: 0.0097\n"
     ]
    },
    {
     "name": "stderr",
     "output_type": "stream",
     "text": [
      "Training Epochs:  16%|█▌        | 16/100 [10:06<51:39, 36.90s/it]"
     ]
    },
    {
     "name": "stdout",
     "output_type": "stream",
     "text": [
      "Epoch 16/100, Loss: 0.0084\n"
     ]
    },
    {
     "name": "stderr",
     "output_type": "stream",
     "text": [
      "Training Epochs:  17%|█▋        | 17/100 [10:43<51:01, 36.88s/it]"
     ]
    },
    {
     "name": "stdout",
     "output_type": "stream",
     "text": [
      "Epoch 17/100, Loss: 0.0085\n"
     ]
    },
    {
     "name": "stderr",
     "output_type": "stream",
     "text": [
      "Training Epochs:  18%|█▊        | 18/100 [11:20<50:24, 36.88s/it]"
     ]
    },
    {
     "name": "stdout",
     "output_type": "stream",
     "text": [
      "Epoch 18/100, Loss: 0.0082\n"
     ]
    },
    {
     "name": "stderr",
     "output_type": "stream",
     "text": [
      "Training Epochs:  19%|█▉        | 19/100 [11:57<49:45, 36.86s/it]"
     ]
    },
    {
     "name": "stdout",
     "output_type": "stream",
     "text": [
      "Epoch 19/100, Loss: 0.0084\n"
     ]
    },
    {
     "name": "stderr",
     "output_type": "stream",
     "text": [
      "Training Epochs:  20%|██        | 20/100 [12:34<49:08, 36.85s/it]"
     ]
    },
    {
     "name": "stdout",
     "output_type": "stream",
     "text": [
      "Epoch 20/100, Loss: 0.0077\n"
     ]
    },
    {
     "name": "stderr",
     "output_type": "stream",
     "text": [
      "Training Epochs:  21%|██        | 21/100 [13:10<48:30, 36.85s/it]"
     ]
    },
    {
     "name": "stdout",
     "output_type": "stream",
     "text": [
      "Epoch 21/100, Loss: 0.0074\n"
     ]
    },
    {
     "name": "stderr",
     "output_type": "stream",
     "text": [
      "Training Epochs:  22%|██▏       | 22/100 [13:47<47:53, 36.84s/it]"
     ]
    },
    {
     "name": "stdout",
     "output_type": "stream",
     "text": [
      "Epoch 22/100, Loss: 0.0067\n"
     ]
    },
    {
     "name": "stderr",
     "output_type": "stream",
     "text": [
      "Training Epochs:  23%|██▎       | 23/100 [14:24<47:16, 36.84s/it]"
     ]
    },
    {
     "name": "stdout",
     "output_type": "stream",
     "text": [
      "Epoch 23/100, Loss: 0.0071\n"
     ]
    },
    {
     "name": "stderr",
     "output_type": "stream",
     "text": [
      "Training Epochs:  24%|██▍       | 24/100 [15:01<46:39, 36.83s/it]"
     ]
    },
    {
     "name": "stdout",
     "output_type": "stream",
     "text": [
      "Epoch 24/100, Loss: 0.0065\n"
     ]
    },
    {
     "name": "stderr",
     "output_type": "stream",
     "text": [
      "Training Epochs:  25%|██▌       | 25/100 [15:38<46:02, 36.84s/it]"
     ]
    },
    {
     "name": "stdout",
     "output_type": "stream",
     "text": [
      "Epoch 25/100, Loss: 0.0071\n"
     ]
    },
    {
     "name": "stderr",
     "output_type": "stream",
     "text": [
      "Training Epochs:  26%|██▌       | 26/100 [16:15<45:25, 36.83s/it]"
     ]
    },
    {
     "name": "stdout",
     "output_type": "stream",
     "text": [
      "Epoch 26/100, Loss: 0.0064\n"
     ]
    },
    {
     "name": "stderr",
     "output_type": "stream",
     "text": [
      "Training Epochs:  27%|██▋       | 27/100 [16:51<44:48, 36.83s/it]"
     ]
    },
    {
     "name": "stdout",
     "output_type": "stream",
     "text": [
      "Epoch 27/100, Loss: 0.0059\n"
     ]
    },
    {
     "name": "stderr",
     "output_type": "stream",
     "text": [
      "Training Epochs:  28%|██▊       | 28/100 [17:28<44:12, 36.84s/it]"
     ]
    },
    {
     "name": "stdout",
     "output_type": "stream",
     "text": [
      "Epoch 28/100, Loss: 0.0061\n"
     ]
    },
    {
     "name": "stderr",
     "output_type": "stream",
     "text": [
      "Training Epochs:  29%|██▉       | 29/100 [18:05<43:37, 36.87s/it]"
     ]
    },
    {
     "name": "stdout",
     "output_type": "stream",
     "text": [
      "Epoch 29/100, Loss: 0.0076\n"
     ]
    },
    {
     "name": "stderr",
     "output_type": "stream",
     "text": [
      "Training Epochs:  30%|███       | 30/100 [18:42<42:59, 36.86s/it]"
     ]
    },
    {
     "name": "stdout",
     "output_type": "stream",
     "text": [
      "Epoch 30/100, Loss: 0.0059\n"
     ]
    },
    {
     "name": "stderr",
     "output_type": "stream",
     "text": [
      "Training Epochs:  31%|███       | 31/100 [19:19<42:22, 36.85s/it]"
     ]
    },
    {
     "name": "stdout",
     "output_type": "stream",
     "text": [
      "Epoch 31/100, Loss: 0.0048\n"
     ]
    },
    {
     "name": "stderr",
     "output_type": "stream",
     "text": [
      "Training Epochs:  32%|███▏      | 32/100 [19:56<41:47, 36.88s/it]"
     ]
    },
    {
     "name": "stdout",
     "output_type": "stream",
     "text": [
      "Epoch 32/100, Loss: 0.0050\n"
     ]
    },
    {
     "name": "stderr",
     "output_type": "stream",
     "text": [
      "Training Epochs:  33%|███▎      | 33/100 [20:33<41:10, 36.88s/it]"
     ]
    },
    {
     "name": "stdout",
     "output_type": "stream",
     "text": [
      "Epoch 33/100, Loss: 0.0048\n"
     ]
    },
    {
     "name": "stderr",
     "output_type": "stream",
     "text": [
      "Training Epochs:  34%|███▍      | 34/100 [21:10<40:33, 36.87s/it]"
     ]
    },
    {
     "name": "stdout",
     "output_type": "stream",
     "text": [
      "Epoch 34/100, Loss: 0.0050\n"
     ]
    },
    {
     "name": "stderr",
     "output_type": "stream",
     "text": [
      "Training Epochs:  35%|███▌      | 35/100 [21:46<39:56, 36.87s/it]"
     ]
    },
    {
     "name": "stdout",
     "output_type": "stream",
     "text": [
      "Epoch 35/100, Loss: 0.0047\n"
     ]
    },
    {
     "name": "stderr",
     "output_type": "stream",
     "text": [
      "Training Epochs:  36%|███▌      | 36/100 [22:23<39:19, 36.86s/it]"
     ]
    },
    {
     "name": "stdout",
     "output_type": "stream",
     "text": [
      "Epoch 36/100, Loss: 0.0048\n"
     ]
    },
    {
     "name": "stderr",
     "output_type": "stream",
     "text": [
      "Training Epochs:  37%|███▋      | 37/100 [23:00<38:41, 36.84s/it]"
     ]
    },
    {
     "name": "stdout",
     "output_type": "stream",
     "text": [
      "Epoch 37/100, Loss: 0.0047\n"
     ]
    },
    {
     "name": "stderr",
     "output_type": "stream",
     "text": [
      "Training Epochs:  38%|███▊      | 38/100 [23:37<38:04, 36.84s/it]"
     ]
    },
    {
     "name": "stdout",
     "output_type": "stream",
     "text": [
      "Epoch 38/100, Loss: 0.0048\n"
     ]
    },
    {
     "name": "stderr",
     "output_type": "stream",
     "text": [
      "Training Epochs:  39%|███▉      | 39/100 [24:14<37:25, 36.82s/it]"
     ]
    },
    {
     "name": "stdout",
     "output_type": "stream",
     "text": [
      "Epoch 39/100, Loss: 0.0049\n"
     ]
    },
    {
     "name": "stderr",
     "output_type": "stream",
     "text": [
      "Training Epochs:  40%|████      | 40/100 [24:51<36:49, 36.83s/it]"
     ]
    },
    {
     "name": "stdout",
     "output_type": "stream",
     "text": [
      "Epoch 40/100, Loss: 0.0046\n"
     ]
    },
    {
     "name": "stderr",
     "output_type": "stream",
     "text": [
      "Training Epochs:  41%|████      | 41/100 [25:27<36:13, 36.83s/it]"
     ]
    },
    {
     "name": "stdout",
     "output_type": "stream",
     "text": [
      "Epoch 41/100, Loss: 0.0042\n"
     ]
    },
    {
     "name": "stderr",
     "output_type": "stream",
     "text": [
      "Training Epochs:  42%|████▏     | 42/100 [26:04<35:36, 36.84s/it]"
     ]
    },
    {
     "name": "stdout",
     "output_type": "stream",
     "text": [
      "Epoch 42/100, Loss: 0.0050\n"
     ]
    },
    {
     "name": "stderr",
     "output_type": "stream",
     "text": [
      "Training Epochs:  43%|████▎     | 43/100 [26:41<34:59, 36.84s/it]"
     ]
    },
    {
     "name": "stdout",
     "output_type": "stream",
     "text": [
      "Epoch 43/100, Loss: 0.0046\n"
     ]
    },
    {
     "name": "stderr",
     "output_type": "stream",
     "text": [
      "Training Epochs:  44%|████▍     | 44/100 [27:18<34:24, 36.86s/it]"
     ]
    },
    {
     "name": "stdout",
     "output_type": "stream",
     "text": [
      "Epoch 44/100, Loss: 0.0045\n"
     ]
    },
    {
     "name": "stderr",
     "output_type": "stream",
     "text": [
      "Training Epochs:  45%|████▌     | 45/100 [27:55<33:46, 36.84s/it]"
     ]
    },
    {
     "name": "stdout",
     "output_type": "stream",
     "text": [
      "Epoch 45/100, Loss: 0.0051\n"
     ]
    },
    {
     "name": "stderr",
     "output_type": "stream",
     "text": [
      "Training Epochs:  46%|████▌     | 46/100 [28:32<33:09, 36.83s/it]"
     ]
    },
    {
     "name": "stdout",
     "output_type": "stream",
     "text": [
      "Epoch 46/100, Loss: 0.0048\n"
     ]
    },
    {
     "name": "stderr",
     "output_type": "stream",
     "text": [
      "Training Epochs:  47%|████▋     | 47/100 [29:08<32:32, 36.84s/it]"
     ]
    },
    {
     "name": "stdout",
     "output_type": "stream",
     "text": [
      "Epoch 47/100, Loss: 0.0040\n"
     ]
    },
    {
     "name": "stderr",
     "output_type": "stream",
     "text": [
      "Training Epochs:  48%|████▊     | 48/100 [29:45<31:56, 36.85s/it]"
     ]
    },
    {
     "name": "stdout",
     "output_type": "stream",
     "text": [
      "Epoch 48/100, Loss: 0.0039\n"
     ]
    },
    {
     "name": "stderr",
     "output_type": "stream",
     "text": [
      "Training Epochs:  49%|████▉     | 49/100 [30:22<31:18, 36.83s/it]"
     ]
    },
    {
     "name": "stdout",
     "output_type": "stream",
     "text": [
      "Epoch 49/100, Loss: 0.0048\n"
     ]
    },
    {
     "name": "stderr",
     "output_type": "stream",
     "text": [
      "Training Epochs:  50%|█████     | 50/100 [30:59<30:41, 36.84s/it]"
     ]
    },
    {
     "name": "stdout",
     "output_type": "stream",
     "text": [
      "Epoch 50/100, Loss: 0.0042\n"
     ]
    },
    {
     "name": "stderr",
     "output_type": "stream",
     "text": [
      "Training Epochs:  51%|█████     | 51/100 [31:36<30:04, 36.83s/it]"
     ]
    },
    {
     "name": "stdout",
     "output_type": "stream",
     "text": [
      "Epoch 51/100, Loss: 0.0041\n"
     ]
    },
    {
     "name": "stderr",
     "output_type": "stream",
     "text": [
      "Training Epochs:  52%|█████▏    | 52/100 [32:13<29:27, 36.82s/it]"
     ]
    },
    {
     "name": "stdout",
     "output_type": "stream",
     "text": [
      "Epoch 52/100, Loss: 0.0041\n"
     ]
    },
    {
     "name": "stderr",
     "output_type": "stream",
     "text": [
      "Training Epochs:  53%|█████▎    | 53/100 [32:49<28:50, 36.81s/it]"
     ]
    },
    {
     "name": "stdout",
     "output_type": "stream",
     "text": [
      "Epoch 53/100, Loss: 0.0042\n"
     ]
    },
    {
     "name": "stderr",
     "output_type": "stream",
     "text": [
      "Training Epochs:  54%|█████▍    | 54/100 [33:26<28:13, 36.81s/it]"
     ]
    },
    {
     "name": "stdout",
     "output_type": "stream",
     "text": [
      "Epoch 54/100, Loss: 0.0041\n"
     ]
    },
    {
     "name": "stderr",
     "output_type": "stream",
     "text": [
      "Training Epochs:  55%|█████▌    | 55/100 [34:03<27:36, 36.81s/it]"
     ]
    },
    {
     "name": "stdout",
     "output_type": "stream",
     "text": [
      "Epoch 55/100, Loss: 0.0038\n"
     ]
    },
    {
     "name": "stderr",
     "output_type": "stream",
     "text": [
      "Training Epochs:  56%|█████▌    | 56/100 [34:40<26:59, 36.82s/it]"
     ]
    },
    {
     "name": "stdout",
     "output_type": "stream",
     "text": [
      "Epoch 56/100, Loss: 0.0034\n"
     ]
    },
    {
     "name": "stderr",
     "output_type": "stream",
     "text": [
      "Training Epochs:  57%|█████▋    | 57/100 [35:17<26:23, 36.82s/it]"
     ]
    },
    {
     "name": "stdout",
     "output_type": "stream",
     "text": [
      "Epoch 57/100, Loss: 0.0037\n"
     ]
    },
    {
     "name": "stderr",
     "output_type": "stream",
     "text": [
      "Training Epochs:  58%|█████▊    | 58/100 [35:54<25:47, 36.85s/it]"
     ]
    },
    {
     "name": "stdout",
     "output_type": "stream",
     "text": [
      "Epoch 58/100, Loss: 0.0036\n"
     ]
    },
    {
     "name": "stderr",
     "output_type": "stream",
     "text": [
      "Training Epochs:  59%|█████▉    | 59/100 [36:30<25:10, 36.85s/it]"
     ]
    },
    {
     "name": "stdout",
     "output_type": "stream",
     "text": [
      "Epoch 59/100, Loss: 0.0037\n"
     ]
    },
    {
     "name": "stderr",
     "output_type": "stream",
     "text": [
      "Training Epochs:  60%|██████    | 60/100 [37:07<24:34, 36.86s/it]"
     ]
    },
    {
     "name": "stdout",
     "output_type": "stream",
     "text": [
      "Epoch 60/100, Loss: 0.0035\n"
     ]
    },
    {
     "name": "stderr",
     "output_type": "stream",
     "text": [
      "Training Epochs:  61%|██████    | 61/100 [37:44<23:56, 36.84s/it]"
     ]
    },
    {
     "name": "stdout",
     "output_type": "stream",
     "text": [
      "Epoch 61/100, Loss: 0.0036\n"
     ]
    },
    {
     "name": "stderr",
     "output_type": "stream",
     "text": [
      "Training Epochs:  62%|██████▏   | 62/100 [38:21<23:19, 36.84s/it]"
     ]
    },
    {
     "name": "stdout",
     "output_type": "stream",
     "text": [
      "Epoch 62/100, Loss: 0.0034\n"
     ]
    },
    {
     "name": "stderr",
     "output_type": "stream",
     "text": [
      "Training Epochs:  63%|██████▎   | 63/100 [38:58<22:42, 36.83s/it]"
     ]
    },
    {
     "name": "stdout",
     "output_type": "stream",
     "text": [
      "Epoch 63/100, Loss: 0.0035\n"
     ]
    },
    {
     "name": "stderr",
     "output_type": "stream",
     "text": [
      "Training Epochs:  64%|██████▍   | 64/100 [39:35<22:05, 36.83s/it]"
     ]
    },
    {
     "name": "stdout",
     "output_type": "stream",
     "text": [
      "Epoch 64/100, Loss: 0.0041\n"
     ]
    },
    {
     "name": "stderr",
     "output_type": "stream",
     "text": [
      "Training Epochs:  65%|██████▌   | 65/100 [40:11<21:29, 36.83s/it]"
     ]
    },
    {
     "name": "stdout",
     "output_type": "stream",
     "text": [
      "Epoch 65/100, Loss: 0.0035\n"
     ]
    },
    {
     "name": "stderr",
     "output_type": "stream",
     "text": [
      "Training Epochs:  66%|██████▌   | 66/100 [40:48<20:52, 36.82s/it]"
     ]
    },
    {
     "name": "stdout",
     "output_type": "stream",
     "text": [
      "Epoch 66/100, Loss: 0.0033\n"
     ]
    },
    {
     "name": "stderr",
     "output_type": "stream",
     "text": [
      "Training Epochs:  67%|██████▋   | 67/100 [41:25<20:15, 36.83s/it]"
     ]
    },
    {
     "name": "stdout",
     "output_type": "stream",
     "text": [
      "Epoch 67/100, Loss: 0.0040\n"
     ]
    },
    {
     "name": "stderr",
     "output_type": "stream",
     "text": [
      "Training Epochs:  68%|██████▊   | 68/100 [42:02<19:39, 36.85s/it]"
     ]
    },
    {
     "name": "stdout",
     "output_type": "stream",
     "text": [
      "Epoch 68/100, Loss: 0.0032\n"
     ]
    },
    {
     "name": "stderr",
     "output_type": "stream",
     "text": [
      "Training Epochs:  69%|██████▉   | 69/100 [42:39<19:01, 36.83s/it]"
     ]
    },
    {
     "name": "stdout",
     "output_type": "stream",
     "text": [
      "Epoch 69/100, Loss: 0.0039\n"
     ]
    },
    {
     "name": "stderr",
     "output_type": "stream",
     "text": [
      "Training Epochs:  70%|███████   | 70/100 [43:16<18:24, 36.83s/it]"
     ]
    },
    {
     "name": "stdout",
     "output_type": "stream",
     "text": [
      "Epoch 70/100, Loss: 0.0036\n"
     ]
    },
    {
     "name": "stderr",
     "output_type": "stream",
     "text": [
      "Training Epochs:  71%|███████   | 71/100 [43:52<17:48, 36.83s/it]"
     ]
    },
    {
     "name": "stdout",
     "output_type": "stream",
     "text": [
      "Epoch 71/100, Loss: 0.0047\n"
     ]
    },
    {
     "name": "stderr",
     "output_type": "stream",
     "text": [
      "Training Epochs:  72%|███████▏  | 72/100 [44:29<17:11, 36.83s/it]"
     ]
    },
    {
     "name": "stdout",
     "output_type": "stream",
     "text": [
      "Epoch 72/100, Loss: 0.0040\n"
     ]
    },
    {
     "name": "stderr",
     "output_type": "stream",
     "text": [
      "Training Epochs:  73%|███████▎  | 73/100 [45:06<16:34, 36.82s/it]"
     ]
    },
    {
     "name": "stdout",
     "output_type": "stream",
     "text": [
      "Epoch 73/100, Loss: 0.0032\n"
     ]
    },
    {
     "name": "stderr",
     "output_type": "stream",
     "text": [
      "Training Epochs:  74%|███████▍  | 74/100 [45:43<15:57, 36.82s/it]"
     ]
    },
    {
     "name": "stdout",
     "output_type": "stream",
     "text": [
      "Epoch 74/100, Loss: 0.0035\n"
     ]
    },
    {
     "name": "stderr",
     "output_type": "stream",
     "text": [
      "Training Epochs:  75%|███████▌  | 75/100 [46:20<15:20, 36.82s/it]"
     ]
    },
    {
     "name": "stdout",
     "output_type": "stream",
     "text": [
      "Epoch 75/100, Loss: 0.0033\n"
     ]
    },
    {
     "name": "stderr",
     "output_type": "stream",
     "text": [
      "Training Epochs:  76%|███████▌  | 76/100 [46:56<14:43, 36.81s/it]"
     ]
    },
    {
     "name": "stdout",
     "output_type": "stream",
     "text": [
      "Epoch 76/100, Loss: 0.0030\n"
     ]
    },
    {
     "name": "stderr",
     "output_type": "stream",
     "text": [
      "Training Epochs:  77%|███████▋  | 77/100 [47:33<14:06, 36.81s/it]"
     ]
    },
    {
     "name": "stdout",
     "output_type": "stream",
     "text": [
      "Epoch 77/100, Loss: 0.0035\n"
     ]
    },
    {
     "name": "stderr",
     "output_type": "stream",
     "text": [
      "Training Epochs:  78%|███████▊  | 78/100 [48:10<13:29, 36.81s/it]"
     ]
    },
    {
     "name": "stdout",
     "output_type": "stream",
     "text": [
      "Epoch 78/100, Loss: 0.0043\n"
     ]
    },
    {
     "name": "stderr",
     "output_type": "stream",
     "text": [
      "Training Epochs:  79%|███████▉  | 79/100 [48:47<12:52, 36.81s/it]"
     ]
    },
    {
     "name": "stdout",
     "output_type": "stream",
     "text": [
      "Epoch 79/100, Loss: 0.0033\n"
     ]
    },
    {
     "name": "stderr",
     "output_type": "stream",
     "text": [
      "Training Epochs:  80%|████████  | 80/100 [49:24<12:16, 36.81s/it]"
     ]
    },
    {
     "name": "stdout",
     "output_type": "stream",
     "text": [
      "Epoch 80/100, Loss: 0.0032\n"
     ]
    },
    {
     "name": "stderr",
     "output_type": "stream",
     "text": [
      "Training Epochs:  81%|████████  | 81/100 [50:00<11:39, 36.80s/it]"
     ]
    },
    {
     "name": "stdout",
     "output_type": "stream",
     "text": [
      "Epoch 81/100, Loss: 0.0030\n"
     ]
    },
    {
     "name": "stderr",
     "output_type": "stream",
     "text": [
      "Training Epochs:  82%|████████▏ | 82/100 [50:37<11:02, 36.81s/it]"
     ]
    },
    {
     "name": "stdout",
     "output_type": "stream",
     "text": [
      "Epoch 82/100, Loss: 0.0032\n"
     ]
    },
    {
     "name": "stderr",
     "output_type": "stream",
     "text": [
      "Training Epochs:  83%|████████▎ | 83/100 [51:14<10:25, 36.82s/it]"
     ]
    },
    {
     "name": "stdout",
     "output_type": "stream",
     "text": [
      "Epoch 83/100, Loss: 0.0031\n"
     ]
    },
    {
     "name": "stderr",
     "output_type": "stream",
     "text": [
      "Training Epochs:  84%|████████▍ | 84/100 [51:51<09:49, 36.82s/it]"
     ]
    },
    {
     "name": "stdout",
     "output_type": "stream",
     "text": [
      "Epoch 84/100, Loss: 0.0030\n"
     ]
    },
    {
     "name": "stderr",
     "output_type": "stream",
     "text": [
      "Training Epochs:  85%|████████▌ | 85/100 [52:28<09:12, 36.82s/it]"
     ]
    },
    {
     "name": "stdout",
     "output_type": "stream",
     "text": [
      "Epoch 85/100, Loss: 0.0033\n"
     ]
    },
    {
     "name": "stderr",
     "output_type": "stream",
     "text": [
      "Training Epochs:  86%|████████▌ | 86/100 [53:05<08:35, 36.82s/it]"
     ]
    },
    {
     "name": "stdout",
     "output_type": "stream",
     "text": [
      "Epoch 86/100, Loss: 0.0029\n"
     ]
    },
    {
     "name": "stderr",
     "output_type": "stream",
     "text": [
      "Training Epochs:  87%|████████▋ | 87/100 [53:41<07:58, 36.82s/it]"
     ]
    },
    {
     "name": "stdout",
     "output_type": "stream",
     "text": [
      "Epoch 87/100, Loss: 0.0029\n"
     ]
    },
    {
     "name": "stderr",
     "output_type": "stream",
     "text": [
      "Training Epochs:  88%|████████▊ | 88/100 [54:18<07:22, 36.83s/it]"
     ]
    },
    {
     "name": "stdout",
     "output_type": "stream",
     "text": [
      "Epoch 88/100, Loss: 0.0030\n"
     ]
    },
    {
     "name": "stderr",
     "output_type": "stream",
     "text": [
      "Training Epochs:  89%|████████▉ | 89/100 [54:55<06:45, 36.83s/it]"
     ]
    },
    {
     "name": "stdout",
     "output_type": "stream",
     "text": [
      "Epoch 89/100, Loss: 0.0031\n"
     ]
    },
    {
     "name": "stderr",
     "output_type": "stream",
     "text": [
      "Training Epochs:  90%|█████████ | 90/100 [55:32<06:08, 36.84s/it]"
     ]
    },
    {
     "name": "stdout",
     "output_type": "stream",
     "text": [
      "Epoch 90/100, Loss: 0.0031\n"
     ]
    },
    {
     "name": "stderr",
     "output_type": "stream",
     "text": [
      "Training Epochs:  91%|█████████ | 91/100 [56:09<05:31, 36.84s/it]"
     ]
    },
    {
     "name": "stdout",
     "output_type": "stream",
     "text": [
      "Epoch 91/100, Loss: 0.0036\n"
     ]
    },
    {
     "name": "stderr",
     "output_type": "stream",
     "text": [
      "Training Epochs:  92%|█████████▏| 92/100 [56:46<04:54, 36.83s/it]"
     ]
    },
    {
     "name": "stdout",
     "output_type": "stream",
     "text": [
      "Epoch 92/100, Loss: 0.0031\n"
     ]
    },
    {
     "name": "stderr",
     "output_type": "stream",
     "text": [
      "Training Epochs:  93%|█████████▎| 93/100 [57:22<04:17, 36.81s/it]"
     ]
    },
    {
     "name": "stdout",
     "output_type": "stream",
     "text": [
      "Epoch 93/100, Loss: 0.0035\n"
     ]
    },
    {
     "name": "stderr",
     "output_type": "stream",
     "text": [
      "Training Epochs:  94%|█████████▍| 94/100 [57:59<03:40, 36.82s/it]"
     ]
    },
    {
     "name": "stdout",
     "output_type": "stream",
     "text": [
      "Epoch 94/100, Loss: 0.0031\n"
     ]
    },
    {
     "name": "stderr",
     "output_type": "stream",
     "text": [
      "Training Epochs:  95%|█████████▌| 95/100 [58:36<03:04, 36.82s/it]"
     ]
    },
    {
     "name": "stdout",
     "output_type": "stream",
     "text": [
      "Epoch 95/100, Loss: 0.0030\n"
     ]
    },
    {
     "name": "stderr",
     "output_type": "stream",
     "text": [
      "Training Epochs:  96%|█████████▌| 96/100 [59:13<02:27, 36.82s/it]"
     ]
    },
    {
     "name": "stdout",
     "output_type": "stream",
     "text": [
      "Epoch 96/100, Loss: 0.0026\n"
     ]
    },
    {
     "name": "stderr",
     "output_type": "stream",
     "text": [
      "Training Epochs:  97%|█████████▋| 97/100 [59:50<01:50, 36.82s/it]"
     ]
    },
    {
     "name": "stdout",
     "output_type": "stream",
     "text": [
      "Epoch 97/100, Loss: 0.0030\n"
     ]
    },
    {
     "name": "stderr",
     "output_type": "stream",
     "text": [
      "Training Epochs:  98%|█████████▊| 98/100 [1:00:26<01:13, 36.81s/it]"
     ]
    },
    {
     "name": "stdout",
     "output_type": "stream",
     "text": [
      "Epoch 98/100, Loss: 0.0033\n"
     ]
    },
    {
     "name": "stderr",
     "output_type": "stream",
     "text": [
      "Training Epochs:  99%|█████████▉| 99/100 [1:01:03<00:36, 36.81s/it]"
     ]
    },
    {
     "name": "stdout",
     "output_type": "stream",
     "text": [
      "Epoch 99/100, Loss: 0.0032\n"
     ]
    },
    {
     "name": "stderr",
     "output_type": "stream",
     "text": [
      "Training Epochs: 100%|██████████| 100/100 [1:01:40<00:00, 37.01s/it]"
     ]
    },
    {
     "name": "stdout",
     "output_type": "stream",
     "text": [
      "Epoch 100/100, Loss: 0.0032\n"
     ]
    },
    {
     "name": "stderr",
     "output_type": "stream",
     "text": [
      "\n"
     ]
    }
   ],
   "source": [
    "import torch\n",
    "torch.cuda.empty_cache()\n",
    "torch.cuda.memory_summary()\n",
    "\n",
    "model, epoch_losses, epochs = train_model(args) "
   ]
  },
  {
   "cell_type": "code",
   "execution_count": null,
   "id": "01616d90",
   "metadata": {},
   "outputs": [],
   "source": [
    "plt.figure(figsize=(10, 5))\n",
    "plt.plot(epochs, epoch_losses, label='Average Epoch Loss')\n",
    "plt.xlabel('Epoch')\n",
    "plt.ylabel('Loss')\n",
    "plt.title('Training Loss over Epochs')\n",
    "plt.legend()\n",
    "plt.grid(True)\n",
    "plt.show()"
   ]
  },
  {
   "cell_type": "code",
   "execution_count": 32,
   "id": "fdd9d090",
   "metadata": {},
   "outputs": [
    {
     "name": "stdout",
     "output_type": "stream",
     "text": [
      "Model saved to comp_model.pth\n"
     ]
    }
   ],
   "source": [
    "torch.save(model.state_dict(), args.save_model_path)\n",
    "print(f\"Model saved to {args.save_model_path}\")"
   ]
  },
  {
   "cell_type": "markdown",
   "id": "da627262",
   "metadata": {},
   "source": [
    "# Sampling, Evaluation and Visualization"
   ]
  },
  {
   "cell_type": "markdown",
   "id": "f1cf5995",
   "metadata": {},
   "source": [
    "loading the model that was trained before "
   ]
  },
  {
   "cell_type": "code",
   "execution_count": 39,
   "id": "06a2aee0",
   "metadata": {},
   "outputs": [
    {
     "name": "stdout",
     "output_type": "stream",
     "text": [
      "Loaded model from comp_model.pth\n"
     ]
    }
   ],
   "source": [
    "n_classes = [2, 3, 1]\n",
    "\n",
    "# Build model\n",
    "ddpm = DDPM(\n",
    "    ContextUnet(\n",
    "        in_channels=3,\n",
    "        n_feat=args.n_feat,\n",
    "        n_classes=n_classes,\n",
    "        type_attention=args.type_attention\n",
    "    ),\n",
    "    betas=(args.lrate, 0.02),\n",
    "    n_T=args.n_T,\n",
    "    device=device,\n",
    ").to(device)\n",
    "ddpm.eval()\n",
    "# Load weights\n",
    "\n",
    "state = torch.load(args.save_model_path, map_location=device)\n",
    "ddpm.load_state_dict(state)\n",
    "ddpm = ddpm.to(device)\n",
    "print(f\"Loaded model from {args.save_model_path}\")"
   ]
  },
  {
   "cell_type": "code",
   "execution_count": null,
   "id": "5211cbcf",
   "metadata": {},
   "outputs": [],
   "source": [
    "#sample images from all configs\n",
    "#create subplots for each config\n",
    "import torchvision.utils as vutils\n",
    "nrows = 4\n",
    "ncols = 1\n",
    "\n",
    "acc = {}\n",
    "sample_train_sources = [\"000\",\"001\",\"100\",\"010\"] # configurations to sample from that was seen during the training\n",
    "for config in sample_train_sources:\n",
    "       # Plot the generated images\n",
    "\n",
    "   gen = sample_images(ddpm, args, config)\n",
    "   #clip gen to 0-1\n",
    "   gen = torch.clamp(gen, 0, 1)\n",
    "\n",
    "   # calc acc\n",
    "   preds, accs = calc_acc(gen, config, classifier_linear, nclasses=3)\n",
    "   acc[config] = accs.mean()\n",
    "   print(f\"Accuracy for config {config}: {acc[config]}\")\n",
    "\n",
    "   grid = vutils.make_grid(gen.cpu(), nrow=nrows, normalize=False)\n",
    "\n",
    "   plt.figure(figsize=(nrows, ncols))\n",
    "   plt.axis(\"off\")\n",
    "   plt.title(f\"Generated Images: {config}\")\n",
    "   plt.imshow(grid.permute(1, 2, 0))  # CxHxW -> HxWxC\n",
    "   plt.show()\n",
    "   vutils.save_image(gen.cpu(), f\"generated_images_{config}.png\", nrow=nrows, normalize=False)\n",
    "   print(f\"Generated images for config {config} saved as generated_images_{config}.png\")\n",
    "\n",
    "   #now save mean image\n",
    "   mean_image = gen.mean(dim=0)        \n",
    "   mean_image = torch.clamp(mean_image, 0, 1)\n",
    "   grid = vutils.make_grid(mean_image.cpu(), nrow=nrows, normalize=False)\n",
    "   plt.figure(figsize=(nrows, ncols))\n",
    "   plt.axis(\"off\")\n",
    "   plt.title(f\"Mean Image: {config}\")\n",
    "   plt.imshow(grid.permute(1, 2, 0))  # CxHxW -> HxWxC\n",
    "   plt.show()\n",
    "   vutils.save_image(mean_image.cpu(), f\"mean_image_{config}.png\", nrow=nrows, normalize=False)\n",
    "   print(f\"Mean image for config {config} saved as mean_image_{config}.png\")\n"
   ]
  },
  {
   "cell_type": "markdown",
   "id": "8e281481",
   "metadata": {},
   "source": [
    " ## 🔍 Generalization: Sampling from Unseen Contexts\n",
    "\n",
    " So far, we’ve only sampled from **training configurations** like `000`, `001`, etc.\n",
    " But what happens when we ask the model to generate from **unseen combinations** of shape, color, and size?\n",
    "\n",
    " > 🤔 **Big Question:**  \n",
    " > Can a diffusion model generalize to novel combinations of known attributes it has never seen together during training?\n",
    "\n",
    "# In this next cell, you will:\n",
    " - Define a set of **unseen context configurations**\n",
    " - Generate images from the model using those contexts\n",
    " - Evaluate and **visually inspect** if the model understands the disentangled structure of the conditioning\n",
    " - Check the **accuracy** of the generated images using the MLP probe\n",
    " ✍️ Try it yourself below!\n",
    "\n"
   ]
  },
  {
   "cell_type": "code",
   "execution_count": null,
   "id": "7f76b041",
   "metadata": {},
   "outputs": [],
   "source": [
    "# Write the code here\n",
    "\n",
    "unseen_configs = [\"011\",\"110\",\"101\",\"111\"]\n",
    "\n",
    "acc_unseen = {}\n",
    "\n",
    "for config in unseen_configs:\n",
    "    # Plot the generated images\n",
    "    gen = sample_images(ddpm, args, config)\n",
    "    #clip gen to 0-1\n",
    "    gen = torch.clamp(gen, 0, 1)\n",
    "\n",
    "    # calc acc\n",
    "    preds, accs = calc_acc(gen, config, classifier_linear, nclasses=3)\n",
    "    acc_unseen[config] = accs.mean()\n",
    "    print(f\"Accuracy for unseen config {config}: {acc_unseen[config]}\")\n",
    "\n",
    "    grid = vutils.make_grid(gen.cpu(), nrow=nrows, normalize=False)\n",
    "\n",
    "    plt.figure(figsize=(nrows, ncols))\n",
    "    plt.axis(\"off\")\n",
    "    plt.title(f\"Generated Images: {config}\")\n",
    "    plt.imshow(grid.permute(1, 2, 0))  # CxHxW -> HxWxC\n",
    "    plt.show()\n",
    "    vutils.save_image(gen.cpu(), f\"generated_images_{config}.png\", nrow=nrows, normalize=False)\n",
    "    print(f\"Generated images for unseen config {config} saved as generated_images_{config}.png\")\n",
    "\n",
    "    #now save mean image\n",
    "    mean_image = gen.mean(dim=0)\n",
    "    mean_image = torch.clamp(mean_image, 0, 1)\n",
    "    grid = vutils.make_grid(mean_image.cpu(), nrow=nrows, normalize=False)\n",
    "    plt.figure(figsize=(nrows, ncols))\n",
    "    plt.axis(\"off\")\n",
    "    plt.title(f\"Mean Image: {config}\")\n",
    "    plt.imshow(grid.permute(1, 2, 0))  # CxHxW -> HxWxC\n",
    "    plt.show()\n",
    "    vutils.save_image(mean_image.cpu(), f\"mean_image_{config}.png\", nrow=nrows, normalize=False)\n",
    "    print(f\"Mean image for unseen config {config} saved as mean_image_{config}.png\")"
   ]
  },
  {
   "cell_type": "markdown",
   "id": "bbe2964e",
   "metadata": {},
   "source": [
    "# For more fun experiments try different configurations like adding Attention layers, changing the number of diffusion steps, or using different datasets."
   ]
  }
 ],
 "metadata": {
  "kernelspec": {
   "display_name": "lab",
   "language": "python",
   "name": "python3"
  },
  "language_info": {
   "codemirror_mode": {
    "name": "ipython",
    "version": 3
   },
   "file_extension": ".py",
   "mimetype": "text/x-python",
   "name": "python",
   "nbconvert_exporter": "python",
   "pygments_lexer": "ipython3",
   "version": "3.9.21"
  }
 },
 "nbformat": 4,
 "nbformat_minor": 5
}
